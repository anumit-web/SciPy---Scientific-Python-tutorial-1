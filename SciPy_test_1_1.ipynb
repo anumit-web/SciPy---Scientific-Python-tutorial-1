{
  "nbformat": 4,
  "nbformat_minor": 0,
  "metadata": {
    "colab": {
      "provenance": [],
      "include_colab_link": true
    },
    "kernelspec": {
      "name": "python3",
      "display_name": "Python 3"
    },
    "language_info": {
      "name": "python"
    }
  },
  "cells": [
    {
      "cell_type": "markdown",
      "metadata": {
        "id": "view-in-github",
        "colab_type": "text"
      },
      "source": [
        "<a href=\"https://colab.research.google.com/github/anumit-web/SciPy---Scientific-Python-tutorial-1/blob/main/SciPy_test_1_1.ipynb\" target=\"_parent\"><img src=\"https://colab.research.google.com/assets/colab-badge.svg\" alt=\"Open In Colab\"/></a>"
      ]
    },
    {
      "cell_type": "markdown",
      "source": [
        "## SciPy\n",
        "## SciPy stands for Scientific Python.\n",
        "\n",
        "SciPy was created by NumPy's creator Travis Olliphant"
      ],
      "metadata": {
        "id": "Oddud14LnY0w"
      }
    },
    {
      "cell_type": "code",
      "source": [
        "from scipy import constants"
      ],
      "metadata": {
        "id": "Qf2jgLNuFUOg"
      },
      "execution_count": 51,
      "outputs": []
    },
    {
      "cell_type": "code",
      "source": [
        "from scipy import constants\n",
        "\n",
        "print(constants.liter)"
      ],
      "metadata": {
        "colab": {
          "base_uri": "https://localhost:8080/"
        },
        "id": "VYsciLtnFMQ3",
        "outputId": "3d492b63-31a5-496d-ad84-8b3f15a50638"
      },
      "execution_count": 52,
      "outputs": [
        {
          "output_type": "stream",
          "name": "stdout",
          "text": [
            "0.001\n"
          ]
        }
      ]
    },
    {
      "cell_type": "code",
      "source": [
        "import scipy\n",
        "\n",
        "print(scipy.__version__)"
      ],
      "metadata": {
        "colab": {
          "base_uri": "https://localhost:8080/"
        },
        "id": "qKdhJqrNFnC1",
        "outputId": "e4cb96df-c47b-4524-b3ad-112926da23b2"
      },
      "execution_count": 53,
      "outputs": [
        {
          "output_type": "stream",
          "name": "stdout",
          "text": [
            "1.11.4\n"
          ]
        }
      ]
    },
    {
      "cell_type": "code",
      "source": [
        "from scipy import constants\n",
        "\n",
        "print(constants.pi)"
      ],
      "metadata": {
        "colab": {
          "base_uri": "https://localhost:8080/"
        },
        "id": "F4a9__wmGQOj",
        "outputId": "a84a729b-b9f1-43df-8fa7-a4a51047f058"
      },
      "execution_count": 54,
      "outputs": [
        {
          "output_type": "stream",
          "name": "stdout",
          "text": [
            "3.141592653589793\n"
          ]
        }
      ]
    },
    {
      "cell_type": "code",
      "source": [
        "from scipy import constants\n",
        "\n",
        "print(dir(constants))"
      ],
      "metadata": {
        "colab": {
          "base_uri": "https://localhost:8080/"
        },
        "id": "h3WfMJxQGfH7",
        "outputId": "a26ce974-a5f4-4162-f9c6-262001348465"
      },
      "execution_count": 55,
      "outputs": [
        {
          "output_type": "stream",
          "name": "stdout",
          "text": [
            "['Avogadro', 'Boltzmann', 'Btu', 'Btu_IT', 'Btu_th', 'ConstantWarning', 'G', 'Julian_year', 'N_A', 'Planck', 'R', 'Rydberg', 'Stefan_Boltzmann', 'Wien', '__all__', '__builtins__', '__cached__', '__doc__', '__file__', '__loader__', '__name__', '__package__', '__path__', '__spec__', '_codata', '_constants', '_obsolete_constants', 'acre', 'alpha', 'angstrom', 'arcmin', 'arcminute', 'arcsec', 'arcsecond', 'astronomical_unit', 'atm', 'atmosphere', 'atomic_mass', 'atto', 'au', 'bar', 'barrel', 'bbl', 'blob', 'c', 'calorie', 'calorie_IT', 'calorie_th', 'carat', 'centi', 'codata', 'constants', 'convert_temperature', 'day', 'deci', 'degree', 'degree_Fahrenheit', 'deka', 'dyn', 'dyne', 'e', 'eV', 'electron_mass', 'electron_volt', 'elementary_charge', 'epsilon_0', 'erg', 'exa', 'exbi', 'femto', 'fermi', 'find', 'fine_structure', 'fluid_ounce', 'fluid_ounce_US', 'fluid_ounce_imp', 'foot', 'g', 'gallon', 'gallon_US', 'gallon_imp', 'gas_constant', 'gibi', 'giga', 'golden', 'golden_ratio', 'grain', 'gram', 'gravitational_constant', 'h', 'hbar', 'hectare', 'hecto', 'horsepower', 'hour', 'hp', 'inch', 'k', 'kgf', 'kibi', 'kilo', 'kilogram_force', 'kmh', 'knot', 'lambda2nu', 'lb', 'lbf', 'light_year', 'liter', 'litre', 'long_ton', 'm_e', 'm_n', 'm_p', 'm_u', 'mach', 'mebi', 'mega', 'metric_ton', 'micro', 'micron', 'mil', 'mile', 'milli', 'minute', 'mmHg', 'mph', 'mu_0', 'nano', 'nautical_mile', 'neutron_mass', 'nu2lambda', 'ounce', 'oz', 'parsec', 'pebi', 'peta', 'physical_constants', 'pi', 'pico', 'point', 'pound', 'pound_force', 'precision', 'proton_mass', 'psi', 'pt', 'quecto', 'quetta', 'ronna', 'ronto', 'short_ton', 'sigma', 'slinch', 'slug', 'speed_of_light', 'speed_of_sound', 'stone', 'survey_foot', 'survey_mile', 'tebi', 'tera', 'test', 'ton_TNT', 'torr', 'troy_ounce', 'troy_pound', 'u', 'unit', 'value', 'week', 'yard', 'year', 'yobi', 'yocto', 'yotta', 'zebi', 'zepto', 'zero_Celsius', 'zetta']\n"
          ]
        }
      ]
    },
    {
      "cell_type": "markdown",
      "source": [
        "### Metric (SI) Prefixes:"
      ],
      "metadata": {
        "id": "PIeHymPwIy7f"
      }
    },
    {
      "cell_type": "code",
      "source": [
        "from scipy import constants\n",
        "\n",
        "print(constants.yotta)    #1e+24\n",
        "print(constants.zetta)    #1e+21\n",
        "print(constants.exa)      #1e+18\n",
        "print(constants.peta)     #1000000000000000.0\n",
        "print(constants.tera)     #1000000000000.0\n",
        "print(constants.giga)     #1000000000.0\n",
        "print(constants.mega)     #1000000.0\n",
        "print(constants.kilo)     #1000.0\n",
        "print(constants.hecto)    #100.0\n",
        "print(constants.deka)     #10.0\n",
        "print(constants.deci)     #0.1\n",
        "print(constants.centi)    #0.01\n",
        "print(constants.milli)    #0.001\n",
        "print(constants.micro)    #1e-06\n",
        "print(constants.nano)     #1e-09\n",
        "print(constants.pico)     #1e-12\n",
        "print(constants.femto)    #1e-15\n",
        "print(constants.atto)     #1e-18"
      ],
      "metadata": {
        "colab": {
          "base_uri": "https://localhost:8080/"
        },
        "id": "iF58Do98Ij2i",
        "outputId": "2c0b0c7b-ee21-4ac1-f861-7360551b13e7"
      },
      "execution_count": 56,
      "outputs": [
        {
          "output_type": "stream",
          "name": "stdout",
          "text": [
            "1e+24\n",
            "1e+21\n",
            "1e+18\n",
            "1000000000000000.0\n",
            "1000000000000.0\n",
            "1000000000.0\n",
            "1000000.0\n",
            "1000.0\n",
            "100.0\n",
            "10.0\n",
            "0.1\n",
            "0.01\n",
            "0.001\n",
            "1e-06\n",
            "1e-09\n",
            "1e-12\n",
            "1e-15\n",
            "1e-18\n"
          ]
        }
      ]
    },
    {
      "cell_type": "markdown",
      "source": [
        "Binary Prefixes:"
      ],
      "metadata": {
        "id": "DcUDrVZnJF_9"
      }
    },
    {
      "cell_type": "code",
      "source": [
        "from scipy import constants\n",
        "\n",
        "print(constants.kibi)    #1024\n",
        "print(constants.mebi)    #1048576\n",
        "print(constants.gibi)    #1073741824\n",
        "print(constants.tebi)    #1099511627776\n",
        "print(constants.pebi)    #1125899906842624\n",
        "print(constants.exbi)    #1152921504606846976\n",
        "print(constants.zebi)    #1180591620717411303424\n",
        "print(constants.yobi)    #1208925819614629174706176"
      ],
      "metadata": {
        "colab": {
          "base_uri": "https://localhost:8080/"
        },
        "id": "iM86bV9dNY6v",
        "outputId": "5897cb1b-ee3d-4416-d4c4-99703790a791"
      },
      "execution_count": 57,
      "outputs": [
        {
          "output_type": "stream",
          "name": "stdout",
          "text": [
            "1024\n",
            "1048576\n",
            "1073741824\n",
            "1099511627776\n",
            "1125899906842624\n",
            "1152921504606846976\n",
            "1180591620717411303424\n",
            "1208925819614629174706176\n"
          ]
        }
      ]
    },
    {
      "cell_type": "code",
      "source": [
        "from scipy import constants\n",
        "\n",
        "print(constants.gram)        #0.001\n",
        "print(constants.metric_ton)  #1000.0\n",
        "print(constants.grain)       #6.479891e-05\n",
        "print(constants.lb)          #0.45359236999999997\n",
        "print(constants.pound)       #0.45359236999999997\n",
        "print(constants.oz)          #0.028349523124999998\n",
        "print(constants.ounce)       #0.028349523124999998\n",
        "print(constants.stone)       #6.3502931799999995\n",
        "print(constants.long_ton)    #1016.0469088\n",
        "print(constants.short_ton)   #907.1847399999999\n",
        "print(constants.troy_ounce)  #0.031103476799999998\n",
        "print(constants.troy_pound)  #0.37324172159999996\n",
        "print(constants.carat)       #0.0002\n",
        "print(constants.atomic_mass) #1.66053904e-27\n",
        "print(constants.m_u)         #1.66053904e-27\n",
        "print(constants.u)           #1.66053904e-27"
      ],
      "metadata": {
        "colab": {
          "base_uri": "https://localhost:8080/"
        },
        "id": "52yGCHwMNvBu",
        "outputId": "fd529a56-0e2a-4643-c9ee-f984c18b34bf"
      },
      "execution_count": 58,
      "outputs": [
        {
          "output_type": "stream",
          "name": "stdout",
          "text": [
            "0.001\n",
            "1000.0\n",
            "6.479891e-05\n",
            "0.45359236999999997\n",
            "0.45359236999999997\n",
            "0.028349523124999998\n",
            "0.028349523124999998\n",
            "6.3502931799999995\n",
            "1016.0469088\n",
            "907.1847399999999\n",
            "0.031103476799999998\n",
            "0.37324172159999996\n",
            "0.0002\n",
            "1.6605390666e-27\n",
            "1.6605390666e-27\n",
            "1.6605390666e-27\n"
          ]
        }
      ]
    },
    {
      "cell_type": "code",
      "source": [
        "from scipy import constants\n",
        "\n",
        "print(constants.degree)     #0.017453292519943295\n",
        "print(constants.arcmin)     #0.0002908882086657216\n",
        "print(constants.arcminute)  #0.0002908882086657216\n",
        "print(constants.arcsec)     #4.84813681109536e-06\n",
        "print(constants.arcsecond)  #4.84813681109536e-06"
      ],
      "metadata": {
        "colab": {
          "base_uri": "https://localhost:8080/"
        },
        "id": "OJxyGJswN31L",
        "outputId": "a001f066-a4bb-41b6-86ab-12336cbf497c"
      },
      "execution_count": 59,
      "outputs": [
        {
          "output_type": "stream",
          "name": "stdout",
          "text": [
            "0.017453292519943295\n",
            "0.0002908882086657216\n",
            "0.0002908882086657216\n",
            "4.84813681109536e-06\n",
            "4.84813681109536e-06\n"
          ]
        }
      ]
    },
    {
      "cell_type": "code",
      "source": [
        "from scipy import constants\n",
        "\n",
        "print(constants.minute)      #60.0\n",
        "print(constants.hour)        #3600.0\n",
        "print(constants.day)         #86400.0\n",
        "print(constants.week)        #604800.0\n",
        "print(constants.year)        #31536000.0\n",
        "print(constants.Julian_year) #31557600.0"
      ],
      "metadata": {
        "colab": {
          "base_uri": "https://localhost:8080/"
        },
        "id": "XLWJwsGIOOJ2",
        "outputId": "c9558755-79f9-46eb-dadd-25a77b2c3dbe"
      },
      "execution_count": 60,
      "outputs": [
        {
          "output_type": "stream",
          "name": "stdout",
          "text": [
            "60.0\n",
            "3600.0\n",
            "86400.0\n",
            "604800.0\n",
            "31536000.0\n",
            "31557600.0\n"
          ]
        }
      ]
    },
    {
      "cell_type": "code",
      "source": [
        "from scipy import constants\n",
        "\n",
        "print(constants.inch)              #0.0254\n",
        "print(constants.foot)              #0.30479999999999996\n",
        "print(constants.yard)              #0.9143999999999999\n",
        "print(constants.mile)              #1609.3439999999998\n",
        "print(constants.mil)               #2.5399999999999997e-05\n",
        "print(constants.pt)                #0.00035277777777777776\n",
        "print(constants.point)             #0.00035277777777777776\n",
        "print(constants.survey_foot)       #0.3048006096012192\n",
        "print(constants.survey_mile)       #1609.3472186944373\n",
        "print(constants.nautical_mile)     #1852.0\n",
        "print(constants.fermi)             #1e-15\n",
        "print(constants.angstrom)          #1e-10\n",
        "print(constants.micron)            #1e-06\n",
        "print(constants.au)                #149597870691.0\n",
        "print(constants.astronomical_unit) #149597870691.0\n",
        "print(constants.light_year)        #9460730472580800.0\n",
        "print(constants.parsec)            #3.0856775813057292e+16"
      ],
      "metadata": {
        "colab": {
          "base_uri": "https://localhost:8080/"
        },
        "id": "iMgxh-27OeaT",
        "outputId": "de086fd6-1976-4a92-f238-ed4ece290e38"
      },
      "execution_count": 61,
      "outputs": [
        {
          "output_type": "stream",
          "name": "stdout",
          "text": [
            "0.0254\n",
            "0.30479999999999996\n",
            "0.9143999999999999\n",
            "1609.3439999999998\n",
            "2.5399999999999997e-05\n",
            "0.00035277777777777776\n",
            "0.00035277777777777776\n",
            "0.3048006096012192\n",
            "1609.3472186944373\n",
            "1852.0\n",
            "1e-15\n",
            "1e-10\n",
            "1e-06\n",
            "149597870700.0\n",
            "149597870700.0\n",
            "9460730472580800.0\n",
            "3.085677581491367e+16\n"
          ]
        }
      ]
    },
    {
      "cell_type": "code",
      "source": [
        "from scipy import constants\n",
        "\n",
        "print(constants.atm)         #101325.0\n",
        "print(constants.atmosphere)  #101325.0\n",
        "print(constants.bar)         #100000.0\n",
        "print(constants.torr)        #133.32236842105263\n",
        "print(constants.mmHg)        #133.32236842105263\n",
        "print(constants.psi)         #6894.757293168361"
      ],
      "metadata": {
        "id": "fxvSy9UxOv0u",
        "outputId": "2e27f238-10ca-44ef-b4b6-8386f5d36e4c",
        "colab": {
          "base_uri": "https://localhost:8080/"
        }
      },
      "execution_count": 62,
      "outputs": [
        {
          "output_type": "stream",
          "name": "stdout",
          "text": [
            "101325.0\n",
            "101325.0\n",
            "100000.0\n",
            "133.32236842105263\n",
            "133.32236842105263\n",
            "6894.757293168361\n"
          ]
        }
      ]
    },
    {
      "cell_type": "code",
      "source": [
        "from scipy import constants\n",
        "\n",
        "print(constants.hectare) #10000.0\n",
        "print(constants.acre)    #4046.8564223999992"
      ],
      "metadata": {
        "id": "uBBq1PZ_O_BF",
        "outputId": "fbf5297a-3cc9-4371-89ad-ec2e0154a53b",
        "colab": {
          "base_uri": "https://localhost:8080/"
        }
      },
      "execution_count": 63,
      "outputs": [
        {
          "output_type": "stream",
          "name": "stdout",
          "text": [
            "10000.0\n",
            "4046.8564223999992\n"
          ]
        }
      ]
    },
    {
      "cell_type": "code",
      "source": [
        "from scipy import constants\n",
        "\n",
        "print(constants.liter)            #0.001\n",
        "print(constants.litre)            #0.001\n",
        "print(constants.gallon)           #0.0037854117839999997\n",
        "print(constants.gallon_US)        #0.0037854117839999997\n",
        "print(constants.gallon_imp)       #0.00454609\n",
        "print(constants.fluid_ounce)      #2.9573529562499998e-05\n",
        "print(constants.fluid_ounce_US)   #2.9573529562499998e-05\n",
        "print(constants.fluid_ounce_imp)  #2.84130625e-05\n",
        "print(constants.barrel)           #0.15898729492799998\n",
        "print(constants.bbl)              #0.15898729492799998"
      ],
      "metadata": {
        "id": "o2OtRKScPGOe",
        "outputId": "49cc3168-5b01-4346-9b7c-9769f4e1d011",
        "colab": {
          "base_uri": "https://localhost:8080/"
        }
      },
      "execution_count": 64,
      "outputs": [
        {
          "output_type": "stream",
          "name": "stdout",
          "text": [
            "0.001\n",
            "0.001\n",
            "0.0037854117839999997\n",
            "0.0037854117839999997\n",
            "0.00454609\n",
            "2.9573529562499998e-05\n",
            "2.9573529562499998e-05\n",
            "2.84130625e-05\n",
            "0.15898729492799998\n",
            "0.15898729492799998\n"
          ]
        }
      ]
    }
  ]
}