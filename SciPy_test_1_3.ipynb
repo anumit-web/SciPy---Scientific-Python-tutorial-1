{
  "nbformat": 4,
  "nbformat_minor": 0,
  "metadata": {
    "colab": {
      "provenance": [],
      "include_colab_link": true
    },
    "kernelspec": {
      "name": "python3",
      "display_name": "Python 3"
    },
    "language_info": {
      "name": "python"
    }
  },
  "cells": [
    {
      "cell_type": "markdown",
      "metadata": {
        "id": "view-in-github",
        "colab_type": "text"
      },
      "source": [
        "<a href=\"https://colab.research.google.com/github/anumit-web/SciPy---Scientific-Python-tutorial-1/blob/main/SciPy_test_1_3.ipynb\" target=\"_parent\"><img src=\"https://colab.research.google.com/assets/colab-badge.svg\" alt=\"Open In Colab\"/></a>"
      ]
    },
    {
      "cell_type": "markdown",
      "source": [
        "## SciPy\n",
        "## Sparse Data"
      ],
      "metadata": {
        "id": "4MiKO-DUpGpl"
      }
    },
    {
      "cell_type": "markdown",
      "source": [
        "https://www.w3schools.com/python/scipy/scipy_sparse_data.php"
      ],
      "metadata": {
        "id": "D8L5VTispOwS"
      }
    },
    {
      "cell_type": "code",
      "source": [
        "import numpy as np\n",
        "from scipy.sparse import csr_matrix\n",
        "\n",
        "arr = np.array([0, 0, 0, 0, 0, 1, 1, 0, 2])\n",
        "\n",
        "print(csr_matrix(arr))"
      ],
      "metadata": {
        "id": "n1A3HRm8C8Fd"
      },
      "execution_count": null,
      "outputs": []
    }
  ]
}